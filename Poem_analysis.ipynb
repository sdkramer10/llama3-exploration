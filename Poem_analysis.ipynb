{
 "cells": [
  {
   "cell_type": "code",
   "execution_count": 145,
   "id": "acdd56c2-87a7-419b-8c83-d65ee7e752dc",
   "metadata": {},
   "outputs": [
    {
     "name": "stderr",
     "output_type": "stream",
     "text": [
      "No model was supplied, defaulted to distilbert/distilbert-base-uncased-finetuned-sst-2-english and revision af0f99b (https://huggingface.co/distilbert/distilbert-base-uncased-finetuned-sst-2-english).\n",
      "Using a pipeline without specifying a model name and revision in production is not recommended.\n",
      "/Users/scottkramer/.pyenv/versions/3.8.16/envs/llama3/lib/python3.8/site-packages/huggingface_hub/file_download.py:1132: FutureWarning: `resume_download` is deprecated and will be removed in version 1.0.0. Downloads always resume when possible. If you want to force a new download, use `force_download=True`.\n",
      "  warnings.warn(\n"
     ]
    }
   ],
   "source": [
    "import json\n",
    "\n",
    "from openai import OpenAI\n",
    "import pandas as pd\n",
    "import pronouncing\n",
    "from sentence_transformers import SentenceTransformer, util\n",
    "from transformers import pipeline\n",
    "\n",
    "client = OpenAI()\n",
    "sentiment_pipeline = pipeline(\"sentiment-analysis\")\n",
    "embeddings_model = SentenceTransformer('Alibaba-NLP/gte-base-en-v1.5', trust_remote_code=True)"
   ]
  },
  {
   "cell_type": "code",
   "execution_count": 87,
   "id": "fdf27102-3e90-4dc4-b0b6-08c5a90de649",
   "metadata": {},
   "outputs": [],
   "source": [
    "llama3_8b_quant = pd.read_csv('data/poem_responses_llama3:8b-instruct-q6_K.csv')\n",
    "llama3_8b = pd.read_csv('data/poem_responses_meta-llama-3-8b-instruct.csv')\n",
    "llama3_70b = pd.read_csv('data/poem_responses_meta-llama-3-70b-instruct.csv')\n",
    "gpt_35 = pd.read_csv('data/poem_responses_gpt-3.5-turbo.csv')\n",
    "gpt_4o = pd.read_csv('data/poem_responses_gpt-4o.csv')"
   ]
  },
  {
   "cell_type": "code",
   "execution_count": 88,
   "id": "4e1bf2fa-b4e1-4219-9eb6-64a61aa62719",
   "metadata": {},
   "outputs": [
    {
     "name": "stdout",
     "output_type": "stream",
     "text": [
      "Llama3 8B Quantized: 948\n",
      "Llama3 8B: 873\n",
      "Llama3 70B: 954\n",
      "GPT-3.5-Turbo: 657\n",
      "GPT-4-Turbo: 1006\n"
     ]
    }
   ],
   "source": [
    "# Average Length Heuristic\n",
    "def calculate_avg_length(df):\n",
    "    return int(df['poem'].str.len().mean())\n",
    "\n",
    "print(f'Llama3 8B Quantized: {calculate_avg_length(llama3_8b_quant)}')\n",
    "print(f'Llama3 8B: {calculate_avg_length(llama3_8b)}')\n",
    "print(f'Llama3 70B: {calculate_avg_length(llama3_70b)}')\n",
    "print(f'GPT-3.5-Turbo: {calculate_avg_length(gpt_35)}')\n",
    "print(f'GPT-4o: {calculate_avg_length(gpt_4o)}')"
   ]
  },
  {
   "cell_type": "code",
   "execution_count": 116,
   "id": "bf9e076a-ec83-4f8b-ba98-97f9f79cde71",
   "metadata": {},
   "outputs": [
    {
     "name": "stdout",
     "output_type": "stream",
     "text": [
      "Llama3 8B Quantized: 96%\n",
      "Llama3 8B : 97%\n",
      "Llama3 70B: 97%\n",
      "GPT-3.5-Turbo: 89%\n",
      "GPT-4o: 94%\n"
     ]
    }
   ],
   "source": [
    "# Pct Rhyming Heuristic\n",
    "def calculate_rhyming_fct(poem):\n",
    "    stanzas = poem.split('\\n\\n')\n",
    "    stanzas = [stanza for stanza in stanzas if len(stanza.split('\\n')) > 1]\n",
    "    \n",
    "    num_rhyming_stanzas = 0\n",
    "    for stanza in stanzas:\n",
    "        lines = stanza.split('\\n')\n",
    "        end_words = [line.split(' ')[-1].strip('.?!\"\\',') for line in lines]\n",
    "        found_rhyme = False\n",
    "        for i in range(len(end_words)):\n",
    "            for j in range(i + 1, len(end_words)):\n",
    "                found_rhyme = True if found_rhyme or (end_words[j] in pronouncing.rhymes(end_words[i])) else False\n",
    "                \n",
    "        if found_rhyme:\n",
    "            num_rhyming_stanzas += 1\n",
    "            \n",
    "    return num_rhyming_stanzas / len(stanzas)\n",
    "\n",
    "print(f\"Llama3 8B Quantized: {int(100 * llama3_8b_quant['poem'].apply(calculate_rhyming_fct).mean())}%\")\n",
    "print(f\"Llama3 8B : {int(100 * llama3_8b['poem'].apply(calculate_rhyming_fct).mean())}%\")\n",
    "print(f\"Llama3 70B: {int(100 *llama3_70b['poem'].apply(calculate_rhyming_fct).mean())}%\")\n",
    "print(f\"GPT-3.5-Turbo: {int(100 * gpt_35['poem'].apply(calculate_rhyming_fct).mean())}%\")\n",
    "print(f\"GPT-4o: {int(100 * gpt_4o['poem'].apply(calculate_rhyming_fct).mean())}%\")"
   ]
  },
  {
   "cell_type": "code",
   "execution_count": 97,
   "id": "e318d9d7-831c-4710-9a8e-1b9376cbca4f",
   "metadata": {},
   "outputs": [
    {
     "name": "stdout",
     "output_type": "stream",
     "text": [
      "Llama3 8B Quantized: 85%\n",
      "Llama3 8B: 84%\n",
      "Llama3 70B: 90%\n",
      "GPT-3.5-Turbo: 94%\n",
      "GPT-4-Turbo: 96%\n"
     ]
    }
   ],
   "source": [
    "# Sentiment Analysis Heuristic\n",
    "def has_positive_sentiment(poem):\n",
    "    sentiment = sentiment_pipeline(poem)[0]\n",
    "    return True if sentiment['label'] == 'POSITIVE' else False\n",
    "\n",
    "print(f\"Llama3 8B Quantized: {int(100 * llama3_8b_quant['poem'].apply(has_positive_sentiment).mean())}%\")\n",
    "print(f\"Llama3 8B: {int(100 * llama3_8b['poem'].apply(has_positive_sentiment).mean())}%\")\n",
    "print(f\"Llama3 70B: {int(100 * llama3_70b['poem'].apply(has_positive_sentiment).mean())}%\")\n",
    "print(f\"GPT-3.5-Turbo: {int(100 * gpt_35['poem'].apply(has_positive_sentiment).mean())}%\")\n",
    "print(f\"GPT-4o: {int(100 * gpt_4o['poem'].apply(has_positive_sentiment).mean())}%\")"
   ]
  },
  {
   "cell_type": "code",
   "execution_count": 132,
   "id": "d01a4076-c633-4ecd-ba84-c45a382b514a",
   "metadata": {},
   "outputs": [
    {
     "name": "stdout",
     "output_type": "stream",
     "text": [
      "Llama3 8B Quantized: 0.49\n",
      "Llama3 8B: 0.49\n",
      "Llama3 70B: 0.48\n",
      "GPT-3.5-Turbo: 0.47\n",
      "GPT-4-Turbo: 0.48\n"
     ]
    }
   ],
   "source": [
    "# Diversity Heuristic\n",
    "def calculate_avg_cos_sim(poems):\n",
    "    similarities = list()\n",
    "    for i in range(len(poems)):\n",
    "        for j in range(i + 1, len(poems)):\n",
    "            embeddings1 = embeddings_model.encode(poems[i])\n",
    "            embeddings2 = embeddings_model.encode(poems[j])\n",
    "            similarity = util.pytorch_cos_sim(embeddings1, embeddings2).numpy()[0][0]\n",
    "            similarities.append(similarity)\n",
    "            \n",
    "    return sum(similarities) / len(similarities)\n",
    "\n",
    "print(f\"Llama3 8B Quantized: {round(calculate_avg_cos_sim(llama3_8b_quant['poem']), 2)}\")\n",
    "print(f\"Llama3 8B: {round(calculate_avg_cos_sim(llama3_8b['poem']), 2)}\")\n",
    "print(f\"Llama3 70B: {round(calculate_avg_cos_sim(llama3_70b['poem']), 2)}\")\n",
    "print(f\"GPT-3.5-Turbo: {round(calculate_avg_cos_sim(gpt_35['poem']), 2)}\")\n",
    "print(f\"GPT-4o: {round(calculate_avg_cos_sim(gpt_4o['poem']), 2)}\")"
   ]
  },
  {
   "cell_type": "code",
   "execution_count": 152,
   "id": "b307b1a9-cb00-488e-abc0-ff1cd808c514",
   "metadata": {},
   "outputs": [
    {
     "name": "stdout",
     "output_type": "stream",
     "text": [
      "Llama3 8B Quantized: 8.62\n",
      "Llama3 8B: 8.63\n",
      "Llama3 70B: 8.71\n",
      "GPT-3.5-Turbo: 8.36\n",
      "GPT-4o: 8.84\n"
     ]
    }
   ],
   "source": [
    "# LLM evaluation\n",
    "system_message = '''You are professional poet responsible for assessing the quality of AI generated poems.\n",
    "\n",
    "Score each poem on a scale of 0 to 10, where 10 represents the best possible poem.\n",
    "\n",
    "Scoring Guidelines:\n",
    "- Is the poem original?\n",
    "- Does the poem contain beauty, power, education or entertainment?\n",
    "- is the message of the poem clear? Is it a good message, or is it of little value to anyone?\n",
    "- Is the poem clear in its expression? Does it maintain coherence throughout?\n",
    "- If the poem is written in rhyming verse, then it should be rated according to how well the rhymes fit, not only with each other, but with the flow and the intended nuance of meaning the verse demands.\n",
    "- What form does the poem take? Is it a sonnet, free verse, haiku, etc.? How does the form contribute to the poem's impact?\n",
    "- Does the poet us the best possible choice of words in the poem? A person can ball, cry, sob, whimper, and shed tears, but which term would best fit the mood the poet is trying to convey?\n",
    "\n",
    "Think through your reasoning step-by-step and explain your reasoning. Steps for Judging a Poem:\n",
    "1. Read the Poem Multiple Times: Read it aloud and silently to capture both the meaning and the sound.\n",
    "2. Take Notes: Jot down initial impressions, notable phrases, and any questions that arise.\n",
    "3. Analyze the Elements: Break down the poem into its components (content, structure, language, sound).\n",
    "4. Reflect on Your Experience: Consider your emotional response and personal connection to the poem.\n",
    "\n",
    "The last line in your response MUST be a json object {\"score\": XXX}, where XXX is the score you are giving the response.'''\n",
    "\n",
    "def evaluate_poems(poems):\n",
    "    scores = list()\n",
    "    for poem in poems:\n",
    "        poem_evaluated = False\n",
    "        seed=1\n",
    "        while not poem_evaluated:\n",
    "            response = client.chat.completions.create(\n",
    "                model=\"gpt-4o\",\n",
    "                messages=[\n",
    "                    {\"role\": \"system\", \"content\": system_message},\n",
    "                    {\"role\": \"user\", \"content\": poem}\n",
    "                ],\n",
    "                temperature=0,\n",
    "                seed=seed,\n",
    "            )\n",
    "            try:\n",
    "                response = response.choices[0].message.content\n",
    "                score = int(json.loads(response.split('\\n')[-1])['score'])\n",
    "                if score < 0 or score > 10:\n",
    "                    seed += 1\n",
    "                    continue\n",
    "                    \n",
    "                scores.append(score)\n",
    "                poem_evaluated = True\n",
    "            except json.JSONDecodeError:\n",
    "                seed += 1\n",
    "\n",
    "    return sum(scores) / len(scores)\n",
    "\n",
    "print(f\"Llama3 8B Quantized: {round(evaluate_poems(llama3_8b_quant['poem']), 2)}\")\n",
    "print(f\"Llama3 8B: {round(evaluate_poems(llama3_8b['poem']), 2)}\")\n",
    "print(f\"Llama3 70B: {round(evaluate_poems(llama3_70b['poem']), 2)}\")\n",
    "print(f\"GPT-3.5-Turbo: {round(evaluate_poems(gpt_35['poem']), 2)}\")\n",
    "print(f\"GPT-4o: {round(evaluate_poems(gpt_4o['poem']), 2)}\")"
   ]
  }
 ],
 "metadata": {
  "kernelspec": {
   "display_name": "Python 3 (ipykernel)",
   "language": "python",
   "name": "python3"
  },
  "language_info": {
   "codemirror_mode": {
    "name": "ipython",
    "version": 3
   },
   "file_extension": ".py",
   "mimetype": "text/x-python",
   "name": "python",
   "nbconvert_exporter": "python",
   "pygments_lexer": "ipython3",
   "version": "3.8.16"
  }
 },
 "nbformat": 4,
 "nbformat_minor": 5
}
